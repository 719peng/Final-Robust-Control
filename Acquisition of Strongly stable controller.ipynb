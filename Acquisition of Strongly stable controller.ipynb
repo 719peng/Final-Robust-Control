{
 "cells": [
  {
   "cell_type": "code",
   "execution_count": 11,
   "metadata": {},
   "outputs": [],
   "source": [
    "import pandapower as pp\n",
    "import numpy as np\n",
    "import cvxpy as cp\n",
    "from scipy.linalg import block_diag"
   ]
  },
  {
   "cell_type": "code",
   "execution_count": 12,
   "metadata": {},
   "outputs": [],
   "source": [
    "# extract impedance matrix from loaded network file\n",
    "def impedance_matrix(filename):\n",
    "    net = pp.converter.from_mpc(filename, f_hz=60)\n",
    "\n",
    "    # compute the admittance matrix\n",
    "    pp.runpp(net, numda=False, max_iteration=10)\n",
    "\n",
    "    matrix_Y = np.array(net._ppc[\"internal\"][\"Ybus\"].todense())\n",
    "\n",
    "    # Based on Bolognani's paper, we need to exclude slack bus to get Z\n",
    "    matrix_Y = matrix_Y[1:, :]\n",
    "    matrix_Y = matrix_Y[:, 1:]\n",
    "    matrix_Z = np.linalg.inv(matrix_Y)\n",
    "\n",
    "    matrix_XX = np.imag(matrix_Z) * 121\n",
    "    matrix_RR = np.real(matrix_Z) * 121\n",
    "\n",
    "    return matrix_RR, matrix_XX"
   ]
  },
  {
   "cell_type": "code",
   "execution_count": 13,
   "metadata": {},
   "outputs": [
    {
     "name": "stderr",
     "output_type": "stream",
     "text": [
      "/Users/zhangpeng/miniforge3/envs/Master_Winter23/lib/python3.9/site-packages/pandapower/create.py:4901: FutureWarning: The behavior of DataFrame concatenation with empty or all-NA entries is deprecated. In a future version, this will no longer exclude empty or all-NA columns when determining the result dtypes. To retain the old behavior, exclude the relevant entries before the concat operation.\n",
      "  net[table] = pd.concat([net[table], dd], sort=False)\n",
      "/Users/zhangpeng/miniforge3/envs/Master_Winter23/lib/python3.9/site-packages/pandapower/converter/pypower/from_ppc.py:277: FutureWarning: Setting an item of incompatible dtype is deprecated and will raise in a future error of pandas. Value '[]' has dtype incompatible with int64, please explicitly cast to a compatible dtype first.\n",
      "  branch_lookup[\"element\"].loc[~is_line] = idx_trafo\n"
     ]
    }
   ],
   "source": [
    "filename = 'case34sa_mod.mat'\n",
    "\n",
    "matrix_R, matrix_X = impedance_matrix(filename)"
   ]
  },
  {
   "cell_type": "code",
   "execution_count": 18,
   "metadata": {},
   "outputs": [
    {
     "name": "stdout",
     "output_type": "stream",
     "text": [
      "The optimal value is: 0.0\n",
      "The optimal X is:\n",
      "[[ 978773.18226764   33882.18326552   35150.54879008 ...   -4533.94954624\n",
      "    -4569.9179809    -4583.70978317]\n",
      " [  33882.18326552 1018538.3207536    63433.73598621 ...   -8775.21387312\n",
      "    -8838.39474893   -8863.48653473]\n",
      " [  35150.54879008   63433.73598621 1043116.60829245 ...   -8058.63029375\n",
      "    -8080.37846931   -8093.27594376]\n",
      " ...\n",
      " [  -4533.94954624   -8775.21387312   -8058.63029375 ...  953800.56819658\n",
      "    -4670.71166603   -4689.76600084]\n",
      " [  -4569.9179809    -8838.39474893   -8080.37846931 ...   -4670.71166603\n",
      "   953642.35399976   -4777.79954665]\n",
      " [  -4583.70978317   -8863.48653473   -8093.27594376 ...   -4689.76600084\n",
      "    -4777.79954665  953583.720149  ]]\n"
     ]
    }
   ],
   "source": [
    "n = matrix_R.shape[0]  # number of nodes\n",
    "m = 2 * n\n",
    "\n",
    "A = np.eye(n)\n",
    "#A = np.zeros((n,n)) # menoryless system\n",
    "B = np.hstack([matrix_R, matrix_X])\n",
    "Q = 10 * np.eye(n) # cost of safety \n",
    "R = np.eye(m) # cost of u\n",
    "QR = block_diag(Q, R)\n",
    "\n",
    "AB = np.hstack([A, B])\n",
    "\n",
    "sigma = 100000000 # we just need to make sure it's sufficienly large 100000000\n",
    "\n",
    "W = np.eye(n) # adjust it based on w\n",
    "\n",
    "\n",
    "# Define the variable\n",
    "X = cp.Variable((n+m, n+m), symmetric=True)\n",
    "\n",
    "# Define the objective\n",
    "objective = cp.Minimize(0)\n",
    "\n",
    "# Define the constraints\n",
    "constraints = [X >> 0]  # X is symmetric positive semidefinite\n",
    "constraints += [cp.trace(X) <= sigma]\n",
    "transient = AB @ X @ AB.T\n",
    "for i in range(n):\n",
    "    for j in range(n):\n",
    "        constraints += [X[i, j] == (transient[i, j] + W[i, j])]\n",
    "\n",
    "# Form the problem\n",
    "prob = cp.Problem(objective, constraints)\n",
    "\n",
    "# Solve the problem using MOSEK\n",
    "prob.solve(solver=cp.MOSEK)\n",
    "\n",
    "# Print the results\n",
    "print(\"The optimal value is:\", prob.value)\n",
    "print(\"The optimal X is:\")\n",
    "print(X.value)\n"
   ]
  },
  {
   "cell_type": "code",
   "execution_count": 151,
   "metadata": {},
   "outputs": [
    {
     "name": "stdout",
     "output_type": "stream",
     "text": [
      "[[13.01964143 -3.01937397  0.28433964 ...  0.25977541  0.25963054\n",
      "   0.25958127]\n",
      " [-3.01937397 13.99131156 -1.75675901 ... -0.75342589 -0.75360559\n",
      "  -0.75365285]\n",
      " [ 0.28433964 -1.75675901 11.68659993 ...  0.144875    0.14463717\n",
      "   0.14452448]\n",
      " ...\n",
      " [ 0.25977541 -0.75342589  0.144875   ...  7.06259501 -0.03767592\n",
      "   0.03882027]\n",
      " [ 0.25963054 -0.75360559  0.14463717 ... -0.03767592  7.11505284\n",
      "  -0.07213811]\n",
      " [ 0.25958127 -0.75365285  0.14452448 ...  0.03882027 -0.07213811\n",
      "   7.03956338]]\n"
     ]
    }
   ],
   "source": [
    "X1 = X.value # W = I, vv= 10000 obj = 0\n",
    "print(X1)"
   ]
  },
  {
   "cell_type": "code",
   "execution_count": 168,
   "metadata": {},
   "outputs": [
    {
     "name": "stdout",
     "output_type": "stream",
     "text": [
      "[[ 3.11276588 -1.18473667 -0.01750089 ...  0.28710359  0.28708378\n",
      "   0.28708732]\n",
      " [-1.18473667  3.34810167 -0.75611548 ... -0.74580437 -0.74580814\n",
      "  -0.74584705]\n",
      " [-0.01750089 -0.75611548  2.51356018 ...  0.19881252  0.1987449\n",
      "   0.1987216 ]\n",
      " ...\n",
      " [ 0.28710359 -0.74580437  0.19881252 ...  0.82179439  0.04449727\n",
      "   0.32973226]\n",
      " [ 0.28708378 -0.74580814  0.1987449  ...  0.04449727  1.03435432\n",
      "  -0.10016202]\n",
      " [ 0.28708732 -0.74584705  0.1987216  ...  0.32973226 -0.10016202\n",
      "   0.74778247]]\n"
     ]
    }
   ],
   "source": [
    "X3 = X.value # W = I,  v = 1000 obj: trace\n",
    "print(X3)"
   ]
  },
  {
   "cell_type": "code",
   "execution_count": 147,
   "metadata": {},
   "outputs": [
    {
     "name": "stdout",
     "output_type": "stream",
     "text": [
      "[[ 978773.18226764   33882.18326552   35150.54879008 ...   -4533.94954624\n",
      "    -4569.9179809    -4583.70978317]\n",
      " [  33882.18326552 1018538.3207536    63433.73598621 ...   -8775.21387312\n",
      "    -8838.39474893   -8863.48653473]\n",
      " [  35150.54879008   63433.73598621 1043116.60829245 ...   -8058.63029375\n",
      "    -8080.37846931   -8093.27594376]\n",
      " ...\n",
      " [  -4533.94954624   -8775.21387312   -8058.63029375 ...  953800.56819658\n",
      "    -4670.71166603   -4689.76600084]\n",
      " [  -4569.9179809    -8838.39474893   -8080.37846931 ...   -4670.71166603\n",
      "   953642.35399976   -4777.79954665]\n",
      " [  -4583.70978317   -8863.48653473   -8093.27594376 ...   -4689.76600084\n",
      "    -4777.79954665  953583.720149  ]]\n"
     ]
    }
   ],
   "source": [
    "X4 = X.value # W = I, v = 100000000, obj = 0\n",
    "print(X4)"
   ]
  },
  {
   "cell_type": "code",
   "execution_count": null,
   "metadata": {},
   "outputs": [],
   "source": [
    "X5 = X.value # W = I, v = 100000000, obj = trace\n",
    "# solver failed"
   ]
  },
  {
   "cell_type": "code",
   "execution_count": 174,
   "metadata": {},
   "outputs": [
    {
     "name": "stdout",
     "output_type": "stream",
     "text": [
      "[[ 977528.67128486   33842.01186304   35102.07768644 ...   -4580.25076324\n",
      "    -4612.46455244   -4619.36127038]\n",
      " [  33842.01186304 1017258.45335941   63352.37600316 ...   -8871.10853828\n",
      "    -8920.55504522   -8936.09499747]\n",
      " [  35102.07768644   63352.37600316 1041790.51352389 ...   -8218.01059125\n",
      "    -8218.51236916   -8210.92191988]\n",
      " ...\n",
      " [  -4580.25076324   -8871.10853828   -8218.01059125 ...  953020.66985922\n",
      "    -3966.28060116   -4164.23808213]\n",
      " [  -4612.46455244   -8920.55504522   -8218.51236916 ...   -3966.28060116\n",
      "   952730.10942683   -4152.91870243]\n",
      " [  -4619.36127038   -8936.09499747   -8210.92191988 ...   -4164.23808213\n",
      "    -4152.91870243  953241.16111019]]\n"
     ]
    }
   ],
   "source": [
    "X6 = X.value # W = 0.01 I, v = 100000000, obj = 0\n",
    "print(X6)"
   ]
  },
  {
   "cell_type": "code",
   "execution_count": 16,
   "metadata": {},
   "outputs": [
    {
     "name": "stdout",
     "output_type": "stream",
     "text": [
      "[[-3.05571658e-16  2.65046707e-16 -3.03012932e-16 ... -6.05408237e-16\n",
      "   1.10697422e-15 -1.05716924e-15]\n",
      " [ 7.57645765e-16  3.39311838e-16 -1.52068838e-15 ... -2.54765012e-18\n",
      "  -1.88104557e-15  1.13814932e-15]\n",
      " [-2.10149911e-16 -1.40338838e-16 -2.25691086e-16 ...  4.90498483e-16\n",
      "  -3.53422074e-15  2.41938182e-15]\n",
      " ...\n",
      " [ 1.46278330e-16  1.35811890e-16 -2.28028911e-16 ... -5.73384466e-16\n",
      "   4.89886767e-16  9.85579784e-17]\n",
      " [-4.87478288e-17 -1.55621323e-17 -8.66021584e-17 ...  1.28916570e-16\n",
      "  -1.37928158e-16  4.35689593e-17]\n",
      " [-1.56499850e-16 -1.15081039e-16  2.89032355e-16 ...  6.37142956e-16\n",
      "  -2.68116540e-16 -1.89684887e-16]]\n"
     ]
    }
   ],
   "source": [
    "X_value = X.value\n",
    "\n",
    "X1 = np.ones((m, n))\n",
    "X2 = np.ones((n,n))\n",
    "\n",
    "for i in range(m):\n",
    "    for j in range(n):\n",
    "        X1[i, j] = X_value[i+n, j]\n",
    "\n",
    "for i in range(n):\n",
    "    for j in range(n):\n",
    "        X2[i, j] = X_value[i, j]\n",
    "\n",
    "KK = X1 @ np.linalg.inv(X2)\n",
    "\n",
    "print(KK)\n",
    "\n",
    "# np.savetxt('Controller_K.csv', KK, delimiter=',')\n",
    "#np.save('Controller_K.npy', KK)\n",
    "# validate this KK is stabilzing? or it has been proved in Xinyi's paper"
   ]
  },
  {
   "cell_type": "code",
   "execution_count": 17,
   "metadata": {},
   "outputs": [
    {
     "name": "stdout",
     "output_type": "stream",
     "text": [
      "[-1.14610751e-15+1.15228729e-15j -1.14610751e-15-1.15228729e-15j\n",
      "  7.07320948e-17+7.81380952e-16j  7.07320948e-17-7.81380952e-16j\n",
      "  6.91952399e-16+0.00000000e+00j  3.40609517e-16+4.81504119e-16j\n",
      "  3.40609517e-16-4.81504119e-16j -4.90738197e-16+1.43173911e-16j\n",
      " -4.90738197e-16-1.43173911e-16j -3.85384989e-16+3.29087254e-16j\n",
      " -3.85384989e-16-3.29087254e-16j -1.89030042e-16+4.32696080e-16j\n",
      " -1.89030042e-16-4.32696080e-16j -3.32286712e-16+0.00000000e+00j\n",
      " -6.85759045e-17+3.10911486e-16j -6.85759045e-17-3.10911486e-16j\n",
      " -1.96190332e-16+2.34819313e-16j -1.96190332e-16-2.34819313e-16j\n",
      "  1.09447020e-16+2.00538061e-16j  1.09447020e-16-2.00538061e-16j\n",
      "  2.03389802e-16+0.00000000e+00j  2.69246670e-17+1.71087681e-16j\n",
      "  2.69246670e-17-1.71087681e-16j  1.06995568e-16+0.00000000e+00j\n",
      " -8.30716139e-17+6.86955019e-17j -8.30716139e-17-6.86955019e-17j\n",
      " -1.12635827e-16+0.00000000e+00j  3.70922461e-17+3.85682591e-17j\n",
      "  3.70922461e-17-3.85682591e-17j -1.25682335e-17+2.14504805e-17j\n",
      " -1.25682335e-17-2.14504805e-17j -2.32959614e-17+4.08543545e-18j\n",
      " -2.32959614e-17-4.08543545e-18j]\n"
     ]
    }
   ],
   "source": [
    "xx = np.ones((33, 1)) * 0.1  # we need to change x to x-x_desired\n",
    "\n",
    "rho = A + B @ KK\n",
    "\n",
    "# Compute the eigenvalues\n",
    "eigenvalues = np.linalg.eigvals(rho)\n",
    "\n",
    "# Compute the spectral radius\n",
    "spectral_radius = max(eigenvalues)\n",
    "\n",
    "print(eigenvalues)"
   ]
  },
  {
   "cell_type": "markdown",
   "metadata": {},
   "source": [
    "### Validate controller K is strongly stable for not only real (A, B), but also estimate ($\\bar{A}, \\bar{B}$)"
   ]
  },
  {
   "cell_type": "code",
   "execution_count": 157,
   "metadata": {},
   "outputs": [
    {
     "name": "stdout",
     "output_type": "stream",
     "text": [
      "1.548228244164559\n"
     ]
    }
   ],
   "source": [
    "# add different levels of noise\n",
    "matrix_R1 = np.ones((matrix_R.shape[0], matrix_R.shape[1]))\n",
    "matrix_X1 = np.ones((matrix_R.shape[0], matrix_R.shape[1]))\n",
    "matrix_R2 = np.ones((matrix_R.shape[0], matrix_R.shape[1]))\n",
    "matrix_X2 = np.ones((matrix_R.shape[0], matrix_R.shape[1]))\n",
    "matrix_R3 = np.ones((matrix_R.shape[0], matrix_R.shape[1]))\n",
    "matrix_X3 = np.ones((matrix_R.shape[0], matrix_R.shape[1]))\n",
    "\n",
    "\n",
    "for i in range(matrix_R.shape[0]):\n",
    "    for j in range(matrix_X.shape[1]):\n",
    "        matrix_R1[i, j] = matrix_R[i, j] + np.random.normal(0, 0.05 * matrix_R[i, j])\n",
    "        matrix_X1[i, j] = matrix_X[i, j] + np.random.normal(0, 0.05 * matrix_X[i, j])\n",
    "        matrix_R2[i, j] = matrix_R[i, j] + np.random.normal(0, 0.2 * matrix_R[i, j])\n",
    "        matrix_X2[i, j] = matrix_X[i, j] + np.random.normal(0, 0.2 * matrix_X[i, j])\n",
    "        matrix_R3[i, j] = matrix_R[i, j] + np.random.normal(0, 0.5 * matrix_R[i, j])\n",
    "        matrix_X3[i, j] = matrix_X[i, j] + np.random.normal(0, 0.5 * matrix_X[i, j])\n",
    "\n",
    "\n",
    "norm_new = np.linalg.norm(matrix_X2 - matrix_X, 'fro')\n",
    "\n",
    "print(norm_new)"
   ]
  },
  {
   "cell_type": "code",
   "execution_count": 182,
   "metadata": {},
   "outputs": [
    {
     "name": "stdout",
     "output_type": "stream",
     "text": [
      "1.0057268793585217\n"
     ]
    },
    {
     "name": "stderr",
     "output_type": "stream",
     "text": [
      "/Users/zhangpeng/miniforge3/envs/Master_Winter23/lib/python3.9/site-packages/pandapower/create.py:4901: FutureWarning: The behavior of DataFrame concatenation with empty or all-NA entries is deprecated. In a future version, this will no longer exclude empty or all-NA columns when determining the result dtypes. To retain the old behavior, exclude the relevant entries before the concat operation.\n",
      "  net[table] = pd.concat([net[table], dd], sort=False)\n",
      "/Users/zhangpeng/miniforge3/envs/Master_Winter23/lib/python3.9/site-packages/pandapower/converter/pypower/from_ppc.py:277: FutureWarning: Setting an item of incompatible dtype is deprecated and will raise in a future error of pandas. Value '[]' has dtype incompatible with int64, please explicitly cast to a compatible dtype first.\n",
      "  branch_lookup[\"element\"].loc[~is_line] = idx_trafo\n",
      "/Users/zhangpeng/miniforge3/envs/Master_Winter23/lib/python3.9/site-packages/pandapower/create.py:4901: FutureWarning: The behavior of DataFrame concatenation with empty or all-NA entries is deprecated. In a future version, this will no longer exclude empty or all-NA columns when determining the result dtypes. To retain the old behavior, exclude the relevant entries before the concat operation.\n",
      "  net[table] = pd.concat([net[table], dd], sort=False)\n",
      "/Users/zhangpeng/miniforge3/envs/Master_Winter23/lib/python3.9/site-packages/pandapower/converter/pypower/from_ppc.py:277: FutureWarning: Setting an item of incompatible dtype is deprecated and will raise in a future error of pandas. Value '[]' has dtype incompatible with int64, please explicitly cast to a compatible dtype first.\n",
      "  branch_lookup[\"element\"].loc[~is_line] = idx_trafo\n",
      "/Users/zhangpeng/miniforge3/envs/Master_Winter23/lib/python3.9/site-packages/pandapower/create.py:4901: FutureWarning: The behavior of DataFrame concatenation with empty or all-NA entries is deprecated. In a future version, this will no longer exclude empty or all-NA columns when determining the result dtypes. To retain the old behavior, exclude the relevant entries before the concat operation.\n",
      "  net[table] = pd.concat([net[table], dd], sort=False)\n",
      "/Users/zhangpeng/miniforge3/envs/Master_Winter23/lib/python3.9/site-packages/pandapower/converter/pypower/from_ppc.py:277: FutureWarning: Setting an item of incompatible dtype is deprecated and will raise in a future error of pandas. Value '[]' has dtype incompatible with int64, please explicitly cast to a compatible dtype first.\n",
      "  branch_lookup[\"element\"].loc[~is_line] = idx_trafo\n"
     ]
    }
   ],
   "source": [
    "# line reconfiguration\n",
    "filename1 = 'case34sa_mod1.mat'\n",
    "filename2 = 'case34sa_mod2.mat'\n",
    "filename3 = 'case34sa_mod3.mat'\n",
    "\n",
    "matrix_Rl1, matrix_Xl1 = impedance_matrix(filename1)\n",
    "matrix_Rl2, matrix_Xl2 = impedance_matrix(filename2)\n",
    "matrix_Rl3, matrix_Xl3 = impedance_matrix(filename3)\n",
    "\n",
    "B_new = np.hstack([matrix_R1, matrix_X1])\n",
    "\n",
    "rho = A + B_new @ (KK) # max suffering error 0.03 guassian, but switch three lines is OK\n",
    "\n",
    "# Compute the eigenvalues\n",
    "eigenvalues = np.linalg.eigvals(rho)\n",
    "\n",
    "# Compute the spectral radius\n",
    "spectral_radius = max(abs(eigenvalues))\n",
    "\n",
    "print(spectral_radius)\n"
   ]
  },
  {
   "cell_type": "code",
   "execution_count": 183,
   "metadata": {},
   "outputs": [
    {
     "name": "stdout",
     "output_type": "stream",
     "text": [
      "0.01118561427059216\n"
     ]
    }
   ],
   "source": [
    "# test singular value for perturbation analysis\n",
    "U, S, Vt = np.linalg.svd(KK)\n",
    "\n",
    "sigma_min = min(S)\n",
    "\n",
    "print(sigma_min)"
   ]
  }
 ],
 "metadata": {
  "kernelspec": {
   "display_name": "Master_Winter23",
   "language": "python",
   "name": "python3"
  },
  "language_info": {
   "codemirror_mode": {
    "name": "ipython",
    "version": 3
   },
   "file_extension": ".py",
   "mimetype": "text/x-python",
   "name": "python",
   "nbconvert_exporter": "python",
   "pygments_lexer": "ipython3",
   "version": "3.9.18"
  }
 },
 "nbformat": 4,
 "nbformat_minor": 2
}
