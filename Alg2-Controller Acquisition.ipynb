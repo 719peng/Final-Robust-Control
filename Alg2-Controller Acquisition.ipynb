{
 "cells": [
  {
   "cell_type": "code",
   "execution_count": 1,
   "metadata": {},
   "outputs": [],
   "source": [
    "import pandapower as pp\n",
    "import numpy as np\n",
    "import cvxpy as cp\n",
    "from scipy.linalg import block_diag"
   ]
  },
  {
   "cell_type": "code",
   "execution_count": 2,
   "metadata": {},
   "outputs": [],
   "source": [
    "# extract impedance matrix from loaded network file\n",
    "def impedance_matrix(filename):\n",
    "    net = pp.converter.from_mpc(filename, f_hz=60)\n",
    "\n",
    "    # compute the admittance matrix\n",
    "    pp.runpp(net, numda=False, max_iteration=10)\n",
    "\n",
    "    matrix_Y = np.array(net._ppc[\"internal\"][\"Ybus\"].todense())\n",
    "\n",
    "    # Based on Bolognani's paper, we need to exclude slack bus to get Z\n",
    "    matrix_Y = matrix_Y[1:, :]\n",
    "    matrix_Y = matrix_Y[:, 1:]\n",
    "    matrix_Z = np.linalg.inv(matrix_Y)\n",
    "\n",
    "    matrix_XX = np.imag(matrix_Z) * 121\n",
    "    matrix_RR = np.real(matrix_Z) * 121\n",
    "\n",
    "    return matrix_RR, matrix_XX"
   ]
  },
  {
   "cell_type": "code",
   "execution_count": 3,
   "metadata": {},
   "outputs": [
    {
     "name": "stderr",
     "output_type": "stream",
     "text": [
      "/Users/zhangpeng/miniforge3/envs/Master_Winter23/lib/python3.9/site-packages/pandapower/create.py:4901: FutureWarning: The behavior of DataFrame concatenation with empty or all-NA entries is deprecated. In a future version, this will no longer exclude empty or all-NA columns when determining the result dtypes. To retain the old behavior, exclude the relevant entries before the concat operation.\n",
      "  net[table] = pd.concat([net[table], dd], sort=False)\n",
      "/Users/zhangpeng/miniforge3/envs/Master_Winter23/lib/python3.9/site-packages/pandapower/converter/pypower/from_ppc.py:277: FutureWarning: Setting an item of incompatible dtype is deprecated and will raise in a future error of pandas. Value '[]' has dtype incompatible with int64, please explicitly cast to a compatible dtype first.\n",
      "  branch_lookup[\"element\"].loc[~is_line] = idx_trafo\n"
     ]
    }
   ],
   "source": [
    "filename = 'case34sa_mod.mat'\n",
    "\n",
    "matrix_R, matrix_X = impedance_matrix(filename)"
   ]
  },
  {
   "cell_type": "code",
   "execution_count": 4,
   "metadata": {},
   "outputs": [
    {
     "name": "stdout",
     "output_type": "stream",
     "text": [
      "The optimal value is: 0.0\n",
      "The optimal X is:\n",
      "[[ 978773.18226764   33882.18326552   35150.54879008 ...   -4533.94954624\n",
      "    -4569.9179809    -4583.70978317]\n",
      " [  33882.18326552 1018538.3207536    63433.73598621 ...   -8775.21387312\n",
      "    -8838.39474893   -8863.48653473]\n",
      " [  35150.54879008   63433.73598621 1043116.60829245 ...   -8058.63029375\n",
      "    -8080.37846931   -8093.27594376]\n",
      " ...\n",
      " [  -4533.94954624   -8775.21387312   -8058.63029375 ...  953800.56819658\n",
      "    -4670.71166603   -4689.76600084]\n",
      " [  -4569.9179809    -8838.39474893   -8080.37846931 ...   -4670.71166603\n",
      "   953642.35399976   -4777.79954665]\n",
      " [  -4583.70978317   -8863.48653473   -8093.27594376 ...   -4689.76600084\n",
      "    -4777.79954665  953583.720149  ]]\n"
     ]
    }
   ],
   "source": [
    "n = matrix_R.shape[0]  # number of nodes\n",
    "m = 2 * n\n",
    "\n",
    "A = np.eye(n)\n",
    "#A = np.zeros((n,n)) # menoryless system\n",
    "B = np.hstack([matrix_R, matrix_X])\n",
    "Q = 10 * np.eye(n) # cost of safety \n",
    "R = np.eye(m) # cost of u\n",
    "QR = block_diag(Q, R)\n",
    "\n",
    "AB = np.hstack([A, B])\n",
    "\n",
    "sigma = 100000000 # we just need to make sure it's sufficienly large 100000000\n",
    "\n",
    "W = np.eye(n) # adjust it based on w\n",
    "\n",
    "\n",
    "# Define the variable\n",
    "X = cp.Variable((n+m, n+m), symmetric=True)\n",
    "\n",
    "# Define the objective\n",
    "objective = cp.Minimize(0)\n",
    "\n",
    "# Define the constraints\n",
    "constraints = [X >> 0]  # X is symmetric positive semidefinite\n",
    "constraints += [cp.trace(X) <= sigma]\n",
    "transient = AB @ X @ AB.T\n",
    "for i in range(n):\n",
    "    for j in range(n):\n",
    "        constraints += [X[i, j] == (transient[i, j] + W[i, j])]\n",
    "\n",
    "# Form the problem\n",
    "prob = cp.Problem(objective, constraints)\n",
    "\n",
    "# Solve the problem using MOSEK\n",
    "prob.solve(solver=cp.MOSEK)\n",
    "\n",
    "# Print the results\n",
    "print(\"The optimal value is:\", prob.value)\n",
    "print(\"The optimal X is:\")\n",
    "print(X.value)\n"
   ]
  },
  {
   "cell_type": "code",
   "execution_count": 5,
   "metadata": {},
   "outputs": [
    {
     "name": "stdout",
     "output_type": "stream",
     "text": [
      "[[-0.04145986 -0.02657125 -0.01690959 ...  0.0008856   0.00074853\n",
      "   0.00070021]\n",
      " [-0.02661579 -0.05218988 -0.03362527 ...  0.00173047  0.00148655\n",
      "   0.00139845]\n",
      " [-0.01633813 -0.03245848 -0.07843498 ...  0.0037935   0.00347421\n",
      "   0.0033594 ]\n",
      " ...\n",
      " [-0.00353632 -0.00699559 -0.00602373 ... -0.01156302 -0.0069043\n",
      "  -0.00533571]\n",
      " [-0.00356421 -0.0070461  -0.00608469 ... -0.00680158 -0.01485112\n",
      "  -0.01298907]\n",
      " [-0.00357423 -0.00706498 -0.00610806 ... -0.00519504 -0.01295098\n",
      "  -0.01995483]]\n"
     ]
    }
   ],
   "source": [
    "X_value = X.value\n",
    "\n",
    "X1 = np.ones((m, n))\n",
    "X2 = np.ones((n,n))\n",
    "\n",
    "for i in range(m):\n",
    "    for j in range(n):\n",
    "        X1[i, j] = X_value[i+n, j]\n",
    "\n",
    "for i in range(n):\n",
    "    for j in range(n):\n",
    "        X2[i, j] = X_value[i, j]\n",
    "\n",
    "KK = X1 @ np.linalg.inv(X2)\n",
    "\n",
    "print(KK)\n",
    "\n",
    "# np.savetxt('Controller_K.csv', KK, delimiter=',')\n",
    "#np.save('Controller_K.npy', KK)\n",
    "#validate this KK is stabilzing? or it has been proved in Xinyi's paper"
   ]
  },
  {
   "cell_type": "markdown",
   "metadata": {},
   "source": [
    "### Validation"
   ]
  },
  {
   "cell_type": "code",
   "execution_count": 6,
   "metadata": {},
   "outputs": [
    {
     "name": "stdout",
     "output_type": "stream",
     "text": [
      "0.9997502185671757\n"
     ]
    }
   ],
   "source": [
    "rho = A + B @ KK\n",
    "\n",
    "# Compute the eigenvalues\n",
    "eigenvalues = np.linalg.eigvals(rho)\n",
    "\n",
    "# Compute the spectral radius\n",
    "spectral_radius = max(eigenvalues)\n",
    "\n",
    "print(spectral_radius)"
   ]
  }
 ],
 "metadata": {
  "kernelspec": {
   "display_name": "Master_Winter23",
   "language": "python",
   "name": "python3"
  },
  "language_info": {
   "codemirror_mode": {
    "name": "ipython",
    "version": 3
   },
   "file_extension": ".py",
   "mimetype": "text/x-python",
   "name": "python",
   "nbconvert_exporter": "python",
   "pygments_lexer": "ipython3",
   "version": "3.9.18"
  }
 },
 "nbformat": 4,
 "nbformat_minor": 2
}
